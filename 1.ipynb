{
 "cells": [
  {
   "cell_type": "code",
   "execution_count": 2,
   "id": "2c747d34",
   "metadata": {},
   "outputs": [],
   "source": [
    "import numpy as np"
   ]
  },
  {
   "cell_type": "code",
   "execution_count": 3,
   "id": "1dc68cc8",
   "metadata": {},
   "outputs": [],
   "source": [
    "# ex1\n",
    "# dados dois arrays quaisquer de mesmo tamanho, a função deve retornar o EQM\n",
    "y_prediction = np.array([1,2,3])\n",
    "y_i = np.array([0,0,3])\n",
    "#calculate_eqm(y_prediction,y_i)\n",
    "def calculate_eqm(y_prediction, y_i):\n",
    "    return np.square(y_prediction - y_i).sum()/y_prediction.size"
   ]
  },
  {
   "cell_type": "code",
   "execution_count": 4,
   "id": "359df6b1",
   "metadata": {
    "scrolled": true
   },
   "outputs": [
    {
     "data": {
      "text/plain": [
       "1.6666666666666667"
      ]
     },
     "execution_count": 4,
     "metadata": {},
     "output_type": "execute_result"
    }
   ],
   "source": [
    "calculate_eqm(y_prediction, y_i)"
   ]
  },
  {
   "cell_type": "code",
   "execution_count": 10,
   "id": "8c220a0a",
   "metadata": {},
   "outputs": [],
   "source": [
    "# ex2\n",
    "X = np.random.randn(64, 512)\n",
    "X_processado = np.mean(X) - np.array(X)/X.size\n",
    "def process_EEG_signal(X):\n",
    "    X_processado = (np.array(X)/X.size) - np.mean(X)\n",
    "    return X_processado\n",
    "X\n",
    "X_processado"
   ]
  },
  {
   "cell_type": "code",
   "execution_count": 11,
   "id": "8f2b4f90",
   "metadata": {},
   "outputs": [
    {
     "data": {
      "text/plain": [
       "array([[ 0.33676122, -1.60747458, -1.0546308 , ..., -0.58738905,\n",
       "         0.85038003, -1.20881057],\n",
       "       [ 0.75772442,  0.96120598,  1.7788931 , ...,  0.01440744,\n",
       "        -0.08246349, -0.07421101],\n",
       "       [ 0.08822148,  1.2874963 , -0.5937256 , ..., -0.94361259,\n",
       "         0.42648079,  0.26184396],\n",
       "       ...,\n",
       "       [ 0.07007108, -0.77220979, -0.16372844, ..., -0.31600043,\n",
       "        -0.85799857, -0.4970538 ],\n",
       "       [-0.3946163 , -0.63009552, -0.9864617 , ...,  0.77464246,\n",
       "         0.8758177 ,  0.16567765],\n",
       "       [-0.58248369,  0.66123789, -1.2473355 , ...,  0.96098238,\n",
       "         1.62538001, -0.73701446]])"
      ]
     },
     "execution_count": 11,
     "metadata": {},
     "output_type": "execute_result"
    }
   ],
   "source": [
    "process_EEG_signal(X)"
   ]
  },
  {
   "cell_type": "code",
   "execution_count": 12,
   "id": "7b17e0d9",
   "metadata": {},
   "outputs": [
    {
     "data": {
      "text/plain": [
       "array([[-0.00130121, -0.00124187, -0.00125875, ..., -0.001273  ,\n",
       "        -0.00131688, -0.00125404],\n",
       "       [-0.00131405, -0.00132026, -0.00134522, ..., -0.00129137,\n",
       "        -0.00128841, -0.00128867],\n",
       "       [-0.00129362, -0.00133022, -0.00127281, ..., -0.00126213,\n",
       "        -0.00130395, -0.00129892],\n",
       "       ...,\n",
       "       [-0.00129307, -0.00126736, -0.00128593, ..., -0.00128129,\n",
       "        -0.00126475, -0.00127576],\n",
       "       [-0.00127889, -0.0012717 , -0.00126083, ..., -0.00131457,\n",
       "        -0.00131766, -0.00129599],\n",
       "       [-0.00127315, -0.00131111, -0.00125286, ..., -0.00132026,\n",
       "        -0.00134053, -0.00126844]])"
      ]
     },
     "execution_count": 12,
     "metadata": {},
     "output_type": "execute_result"
    }
   ],
   "source": [
    "(X_processado - X).sum()"
   ]
  },
  {
   "cell_type": "code",
   "execution_count": 68,
   "id": "72a9fd02",
   "metadata": {},
   "outputs": [],
   "source": [
    "#ex3\n",
    "#uma matriz booleana indicando a existência de outliers nos dados de entrada;\n",
    "#a quantidade de outliers\n",
    "#quem são os outliers (os valores).\n",
    "\n",
    "X = np.random.randn(300,15)\n",
    "\n",
    "def locate_outliers(X):\n",
    "    Q1 = np.quantile(X, .25)\n",
    "    Q3 = np.quantile(X, .75)\n",
    "    QR = Q3 - Q1\n",
    "    is_outlier = ((X < (1.5*QR - Q1)) | (X > (1.5*QR + Q3)))\n",
    "    outliers_count = is_outlier.sum()\n",
    "    outliers = X[(X < (1.5*QR - Q1)) | (X > (1.5*QR + Q3))] \n",
    "    #return is_outlier, outliers_count, outliers\n",
    "    return is_outlier, outliers_count, outliers"
   ]
  },
  {
   "cell_type": "code",
   "execution_count": 69,
   "id": "8b374694",
   "metadata": {},
   "outputs": [
    {
     "data": {
      "text/plain": [
       "(array([[ True,  True,  True, ...,  True,  True,  True],\n",
       "        [ True,  True,  True, ...,  True,  True,  True],\n",
       "        [ True,  True,  True, ...,  True,  True,  True],\n",
       "        ...,\n",
       "        [ True,  True,  True, ...,  True,  True,  True],\n",
       "        [ True,  True,  True, ...,  True,  True,  True],\n",
       "        [ True,  True,  True, ...,  True,  True,  True]]),\n",
       " 4499,\n",
       " array([ 1.19367715,  0.40000921,  2.75257714, ..., -0.58569111,\n",
       "        -0.60375885, -0.43668826]))"
      ]
     },
     "execution_count": 69,
     "metadata": {},
     "output_type": "execute_result"
    }
   ],
   "source": [
    "locate_outliers(X)"
   ]
  },
  {
   "cell_type": "code",
   "execution_count": 70,
   "id": "7e2c07ae",
   "metadata": {},
   "outputs": [
    {
     "data": {
      "text/plain": [
       "-0.6331581657876291"
      ]
     },
     "execution_count": 70,
     "metadata": {},
     "output_type": "execute_result"
    }
   ],
   "source": [
    "X = np.random.randn(300,15)\n",
    "Q1 = np.quantile(X, .25)\n",
    "Q1"
   ]
  },
  {
   "cell_type": "code",
   "execution_count": null,
   "id": "a0698822",
   "metadata": {},
   "outputs": [],
   "source": []
  }
 ],
 "metadata": {
  "kernelspec": {
   "display_name": "Python 3 (ipykernel)",
   "language": "python",
   "name": "python3"
  },
  "language_info": {
   "codemirror_mode": {
    "name": "ipython",
    "version": 3
   },
   "file_extension": ".py",
   "mimetype": "text/x-python",
   "name": "python",
   "nbconvert_exporter": "python",
   "pygments_lexer": "ipython3",
   "version": "3.9.12"
  }
 },
 "nbformat": 4,
 "nbformat_minor": 5
}
